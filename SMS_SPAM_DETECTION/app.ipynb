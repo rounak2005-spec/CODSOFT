{
 "cells": [
  {
   "cell_type": "code",
   "execution_count": 185,
   "id": "9d0251ba",
   "metadata": {},
   "outputs": [],
   "source": [
    "import string\n",
    "\n",
    "import pandas as pd\n",
    "import numpy as np\n",
    "\n",
    "import nltk\n",
    "\n",
    "from nltk.corpus import stopwords\n",
    "from nltk.stem.porter import PorterStemmer\n",
    "\n",
    "from sklearn.feature_extraction.text import CountVectorizer\n",
    "from sklearn.model_selection import train_test_split\n",
    "from sklearn.ensemble import RandomForestClassifier"
   ]
  },
  {
   "cell_type": "code",
   "execution_count": 186,
   "id": "f798cd2c",
   "metadata": {},
   "outputs": [
    {
     "name": "stderr",
     "output_type": "stream",
     "text": [
      "[nltk_data] Downloading package stopwords to\n",
      "[nltk_data]     C:\\Users\\Rounak\\AppData\\Roaming\\nltk_data...\n",
      "[nltk_data]   Package stopwords is already up-to-date!\n"
     ]
    },
    {
     "data": {
      "text/plain": [
       "True"
      ]
     },
     "execution_count": 186,
     "metadata": {},
     "output_type": "execute_result"
    }
   ],
   "source": [
    "\n",
    "nltk.download('stopwords')\n"
   ]
  },
  {
   "cell_type": "code",
   "execution_count": 190,
   "id": "496aca60",
   "metadata": {},
   "outputs": [],
   "source": [
    "data = pd.read_csv(r'C:\\Users\\Rounak\\OneDrive\\Desktop\\Machine Learning\\SMS_Spam_Detection\\spam.csv', encoding='latin-1')\n"
   ]
  },
  {
   "cell_type": "code",
   "execution_count": null,
   "id": "160e54dd",
   "metadata": {},
   "outputs": [],
   "source": [
    "def clean_text(text):\n",
    "    if pd.isna(text):\n",
    "        return \"emptytext\"\n",
    "    text = text.lower()\n",
    "    text = re.sub(r'[^a-z0-9\\s]', '', text)\n",
    "    words = text.split()  # Simple tokenizer instead of word_tokenize\n",
    "    stop_words = set([\n",
    "        'i','me','my','myself','we','our','ours','ourselves','you','your',\n",
    "        'yours','yourself','yourselves','he','him','his','himself','she','her',\n",
    "        'hers','herself','it','its','itself','they','them','their','theirs',\n",
    "        'themselves','what','which','who','whom','this','that','these','those',\n",
    "        'am','is','are','was','were','be','been','being','have','has','had',\n",
    "        'having','do','does','did','doing','a','an','the','and','but','if','or',\n",
    "        'because','as','until','while','of','at','by','for','with','about',\n",
    "        'against','between','into','through','during','before','after','above',\n",
    "        'below','to','from','up','down','in','out','on','off','over','under',\n",
    "        'again','further','then','once','here','there','when','where','why',\n",
    "        'how','all','any','both','each','few','more','most','other','some',\n",
    "        'such','no','nor','not','only','own','same','so','than','too','very',\n",
    "        's','t','can','will','just','don','should','now'\n",
    "    ])\n",
    "    words = [word for word in words if word not in stop_words]\n",
    "    return ' '.join(words) if words else \"emptytext\"\n"
   ]
  },
  {
   "cell_type": "code",
   "execution_count": null,
   "id": "06545ca4",
   "metadata": {},
   "outputs": [],
   "source": [
    "data['cleaned'] = data['sms'].apply(clean_text)"
   ]
  },
  {
   "cell_type": "code",
   "execution_count": null,
   "id": "d70d9646",
   "metadata": {},
   "outputs": [],
   "source": [
    "texts = data['cleaned']\n",
    "labels = data['label']\n",
    "train_texts, test_texts, train_labels, test_labels = train_test_split(texts, labels, test_size=0.2, random_state=42)"
   ]
  },
  {
   "cell_type": "code",
   "execution_count": null,
   "id": "72816e9c",
   "metadata": {},
   "outputs": [],
   "source": [
    "# Make sure train_texts and test_texts contain valid strings\n",
    "train_texts = [\"emptytext\" if pd.isna(text) or text.strip() == \"\" else text for text in train_texts]\n",
    "test_texts = [\"emptytext\" if pd.isna(text) or text.strip() == \"\" else text for text in test_texts]\n",
    "\n",
    "\n"
   ]
  },
  {
   "cell_type": "code",
   "execution_count": null,
   "id": "efd3e7d2",
   "metadata": {},
   "outputs": [],
   "source": [
    "vectorizer = TfidfVectorizer(max_features=2500)\n",
    "train_vectors = vectorizer.fit_transform(train_texts)\n",
    "test_vectors = vectorizer.transform(test_texts)\n"
   ]
  },
  {
   "cell_type": "code",
   "execution_count": null,
   "id": "ffe632d7",
   "metadata": {},
   "outputs": [],
   "source": [
    "classifier = MultinomialNB()\n",
    "classifier.fit(train_vectors, train_labels)\n",
    "preds = classifier.predict(test_vectors)"
   ]
  },
  {
   "cell_type": "code",
   "execution_count": null,
   "id": "d71c103f",
   "metadata": {},
   "outputs": [
    {
     "name": "stdout",
     "output_type": "stream",
     "text": [
      "Model accuracy: 0.9757847533632287\n",
      "Breakdown\n",
      "              precision    recall  f1-score   support\n",
      "\n",
      "         ham       0.97      1.00      0.99       965\n",
      "        spam       1.00      0.82      0.90       150\n",
      "\n",
      "    accuracy                           0.98      1115\n",
      "   macro avg       0.99      0.91      0.94      1115\n",
      "weighted avg       0.98      0.98      0.97      1115\n",
      "\n"
     ]
    }
   ],
   "source": [
    "score = accuracy_score(test_labels, preds)\n",
    "print('Model accuracy:', score)\n",
    "print('Breakdown')\n",
    "print(classification_report(test_labels, preds, target_names=['ham', 'spam']))"
   ]
  },
  {
   "cell_type": "code",
   "execution_count": null,
   "id": "fce5450a",
   "metadata": {},
   "outputs": [],
   "source": [
    "with open('model.pkl', 'wb') as f:\n",
    "    pickle.dump(classifier, f)\n",
    "\n",
    "with open('vectorizer.pkl', 'wb') as f:\n",
    "    pickle.dump(vectorizer, f)"
   ]
  },
  {
   "cell_type": "code",
   "execution_count": null,
   "id": "09a8d9e5",
   "metadata": {},
   "outputs": [
    {
     "name": "stdout",
     "output_type": "stream",
     "text": [
      "free gift click\n"
     ]
    }
   ],
   "source": [
    "import re\n",
    "from sklearn.feature_extraction.text import ENGLISH_STOP_WORDS\n",
    "new_sms = ['free gift click now']\n",
    "new_sms = new_sms[0].lower()\n",
    "new_sms = re.sub(r'[^a-z0-9\\s]', '', new_sms)\n",
    "words = new_sms.split()\n",
    "words = [word for word in words if word not in ENGLISH_STOP_WORDS]\n",
    "clean_sms = ' '.join(words)\n",
    "print(clean_sms)\n"
   ]
  },
  {
   "cell_type": "code",
   "execution_count": null,
   "id": "8873f560",
   "metadata": {},
   "outputs": [],
   "source": [
    "with open('model.pkl', 'rb') as f:\n",
    "    classifier = pickle.load(f)\n",
    "\n",
    "with open('vectorizer.pkl', 'rb') as f:\n",
    "    vectorizer = pickle.load(f)"
   ]
  },
  {
   "cell_type": "code",
   "execution_count": null,
   "id": "82ececd3",
   "metadata": {},
   "outputs": [
    {
     "name": "stdout",
     "output_type": "stream",
     "text": [
      "This is a Spam\n"
     ]
    }
   ],
   "source": [
    "sms_vector = vectorizer.transform([clean_sms])\n",
    "result = classifier.predict(sms_vector)[0]\n",
    "if result == 1:\n",
    "    print('This is a Spam')\n",
    "else:\n",
    "    print('This is Not Spam')"
   ]
  },
  {
   "cell_type": "code",
   "execution_count": null,
   "id": "1bc00f45",
   "metadata": {},
   "outputs": [],
   "source": []
  }
 ],
 "metadata": {
  "kernelspec": {
   "display_name": "Python 3",
   "language": "python",
   "name": "python3"
  },
  "language_info": {
   "codemirror_mode": {
    "name": "ipython",
    "version": 3
   },
   "file_extension": ".py",
   "mimetype": "text/x-python",
   "name": "python",
   "nbconvert_exporter": "python",
   "pygments_lexer": "ipython3",
   "version": "3.12.10"
  }
 },
 "nbformat": 4,
 "nbformat_minor": 5
}
